{
 "cells": [
  {
   "cell_type": "markdown",
   "metadata": {},
   "source": [
    "# Dataset\n",
    "### 2017 ISIC Training Dataset\n",
    "* 2000 images in JPEG format and CSV with clinical metadata\n",
    "    - 374 images diagnosed as melanoma and 1626 images as other diagnoses lumped into non-melanoma\n",
    "* image_id, age_approximate, and sex\n",
    "\n",
    "## Importing Datasets and Data Cleaning"
   ]
  },
  {
   "cell_type": "code",
   "execution_count": 5,
   "metadata": {},
   "outputs": [],
   "source": [
    "# import packages for data cleaning and visualization\n",
    "import numpy as np\n",
    "import pandas as pd\n",
    "import matplotlib.pyplot as plt\n",
    "%matplotlib inline\n",
    "plt.style.use('seaborn')\n",
    "import seaborn as sns\n",
    "\n",
    "# import packages for image processing and management\n",
    "import pydicom as dicom\n",
    "from random import randint\n",
    "import os, sys, time, shutil, scipy, cv2, json, datetime, pydicom\n",
    "os.environ['TF_CPP_MIN_LOG_LEVEL'] = '3' \n",
    "from tqdm.notebook import tqdm\n",
    "from skimage import io\n",
    "from glob import glob\n",
    "import albumentations as A\n",
    "from PIL import Image\n",
    "from skimage.color import label2rgb\n",
    "import random\n",
    "\n",
    "import warnings\n",
    "warnings.simplefilter(\"ignore\")\n",
    "\n",
    "# import packages for modeling\n",
    "import tensorflow as tf\n",
    "from tensorflow.keras import models, layers, regularizers, optimizers, Sequential, Model\n",
    "from tensorflow.keras.models import load_model\n",
    "from tensorflow.keras.layers import Dense, Activation, Flatten, Dropout, BatchNormalization, Conv2D, MaxPooling2D\n",
    "from tensorflow.keras.preprocessing.image import ImageDataGenerator\n",
    "from tensorflow.keras.optimizers import Adam\n",
    "from tensorflow.keras.callbacks import ModelCheckpoint, EarlyStopping, ReduceLROnPlateau\n",
    "from tensorflow.keras.applications.vgg16 import VGG16\n",
    "\n",
    "from sklearn.model_selection import train_test_split"
   ]
  },
  {
   "cell_type": "code",
   "execution_count": 6,
   "metadata": {},
   "outputs": [],
   "source": [
    "# import functions from utils.py\n",
    "%reload_ext autoreload\n",
    "%autoreload 2\n",
    "from utils import *"
   ]
  },
  {
   "cell_type": "markdown",
   "metadata": {},
   "source": [
    "### 2017 Training Dataset"
   ]
  },
  {
   "cell_type": "code",
   "execution_count": 7,
   "metadata": {},
   "outputs": [
    {
     "data": {
      "text/html": [
       "<div>\n",
       "<style scoped>\n",
       "    .dataframe tbody tr th:only-of-type {\n",
       "        vertical-align: middle;\n",
       "    }\n",
       "\n",
       "    .dataframe tbody tr th {\n",
       "        vertical-align: top;\n",
       "    }\n",
       "\n",
       "    .dataframe thead th {\n",
       "        text-align: right;\n",
       "    }\n",
       "</style>\n",
       "<table border=\"1\" class=\"dataframe\">\n",
       "  <thead>\n",
       "    <tr style=\"text-align: right;\">\n",
       "      <th></th>\n",
       "      <th>image_id</th>\n",
       "      <th>melanoma</th>\n",
       "      <th>seborrheic_keratosis</th>\n",
       "    </tr>\n",
       "  </thead>\n",
       "  <tbody>\n",
       "    <tr>\n",
       "      <th>0</th>\n",
       "      <td>ISIC_0000000</td>\n",
       "      <td>0.0</td>\n",
       "      <td>0.0</td>\n",
       "    </tr>\n",
       "    <tr>\n",
       "      <th>1</th>\n",
       "      <td>ISIC_0000001</td>\n",
       "      <td>0.0</td>\n",
       "      <td>0.0</td>\n",
       "    </tr>\n",
       "    <tr>\n",
       "      <th>2</th>\n",
       "      <td>ISIC_0000002</td>\n",
       "      <td>1.0</td>\n",
       "      <td>0.0</td>\n",
       "    </tr>\n",
       "    <tr>\n",
       "      <th>3</th>\n",
       "      <td>ISIC_0000003</td>\n",
       "      <td>0.0</td>\n",
       "      <td>0.0</td>\n",
       "    </tr>\n",
       "    <tr>\n",
       "      <th>4</th>\n",
       "      <td>ISIC_0000004</td>\n",
       "      <td>1.0</td>\n",
       "      <td>0.0</td>\n",
       "    </tr>\n",
       "  </tbody>\n",
       "</table>\n",
       "</div>"
      ],
      "text/plain": [
       "       image_id  melanoma  seborrheic_keratosis\n",
       "0  ISIC_0000000       0.0                   0.0\n",
       "1  ISIC_0000001       0.0                   0.0\n",
       "2  ISIC_0000002       1.0                   0.0\n",
       "3  ISIC_0000003       0.0                   0.0\n",
       "4  ISIC_0000004       1.0                   0.0"
      ]
     },
     "execution_count": 7,
     "metadata": {},
     "output_type": "execute_result"
    }
   ],
   "source": [
    "# Upload 2017 Training metadata to determine any additional instances of minority class\n",
    "train17a = pd.read_csv('data/ISIC-2017_Training_Part3_GroundTruth.csv')\n",
    "train17a.head()"
   ]
  },
  {
   "cell_type": "code",
   "execution_count": 8,
   "metadata": {},
   "outputs": [
    {
     "data": {
      "text/html": [
       "<div>\n",
       "<style scoped>\n",
       "    .dataframe tbody tr th:only-of-type {\n",
       "        vertical-align: middle;\n",
       "    }\n",
       "\n",
       "    .dataframe tbody tr th {\n",
       "        vertical-align: top;\n",
       "    }\n",
       "\n",
       "    .dataframe thead th {\n",
       "        text-align: right;\n",
       "    }\n",
       "</style>\n",
       "<table border=\"1\" class=\"dataframe\">\n",
       "  <thead>\n",
       "    <tr style=\"text-align: right;\">\n",
       "      <th></th>\n",
       "      <th>file1</th>\n",
       "      <th>target</th>\n",
       "    </tr>\n",
       "  </thead>\n",
       "  <tbody>\n",
       "    <tr>\n",
       "      <th>0</th>\n",
       "      <td>ISIC_0000000</td>\n",
       "      <td>0</td>\n",
       "    </tr>\n",
       "    <tr>\n",
       "      <th>1</th>\n",
       "      <td>ISIC_0000001</td>\n",
       "      <td>0</td>\n",
       "    </tr>\n",
       "    <tr>\n",
       "      <th>2</th>\n",
       "      <td>ISIC_0000002</td>\n",
       "      <td>1</td>\n",
       "    </tr>\n",
       "    <tr>\n",
       "      <th>3</th>\n",
       "      <td>ISIC_0000003</td>\n",
       "      <td>0</td>\n",
       "    </tr>\n",
       "    <tr>\n",
       "      <th>4</th>\n",
       "      <td>ISIC_0000004</td>\n",
       "      <td>1</td>\n",
       "    </tr>\n",
       "  </tbody>\n",
       "</table>\n",
       "</div>"
      ],
      "text/plain": [
       "          file1  target\n",
       "0  ISIC_0000000       0\n",
       "1  ISIC_0000001       0\n",
       "2  ISIC_0000002       1\n",
       "3  ISIC_0000003       0\n",
       "4  ISIC_0000004       1"
      ]
     },
     "execution_count": 8,
     "metadata": {},
     "output_type": "execute_result"
    }
   ],
   "source": [
    "train17a = train17a.drop(columns=['seborrheic_keratosis'], axis=1)\n",
    "train17a.columns = ['file1', 'target']\n",
    "train17a.target = train17a.target.astype(int)\n",
    "train17a.head()"
   ]
  },
  {
   "cell_type": "code",
   "execution_count": 9,
   "metadata": {},
   "outputs": [
    {
     "data": {
      "text/html": [
       "<div>\n",
       "<style scoped>\n",
       "    .dataframe tbody tr th:only-of-type {\n",
       "        vertical-align: middle;\n",
       "    }\n",
       "\n",
       "    .dataframe tbody tr th {\n",
       "        vertical-align: top;\n",
       "    }\n",
       "\n",
       "    .dataframe thead th {\n",
       "        text-align: right;\n",
       "    }\n",
       "</style>\n",
       "<table border=\"1\" class=\"dataframe\">\n",
       "  <thead>\n",
       "    <tr style=\"text-align: right;\">\n",
       "      <th></th>\n",
       "      <th>image_id</th>\n",
       "      <th>age_approximate</th>\n",
       "      <th>sex</th>\n",
       "    </tr>\n",
       "  </thead>\n",
       "  <tbody>\n",
       "    <tr>\n",
       "      <th>0</th>\n",
       "      <td>ISIC_0000000</td>\n",
       "      <td>55</td>\n",
       "      <td>female</td>\n",
       "    </tr>\n",
       "    <tr>\n",
       "      <th>1</th>\n",
       "      <td>ISIC_0000001</td>\n",
       "      <td>30</td>\n",
       "      <td>female</td>\n",
       "    </tr>\n",
       "    <tr>\n",
       "      <th>2</th>\n",
       "      <td>ISIC_0000002</td>\n",
       "      <td>60</td>\n",
       "      <td>female</td>\n",
       "    </tr>\n",
       "    <tr>\n",
       "      <th>3</th>\n",
       "      <td>ISIC_0000003</td>\n",
       "      <td>30</td>\n",
       "      <td>male</td>\n",
       "    </tr>\n",
       "    <tr>\n",
       "      <th>4</th>\n",
       "      <td>ISIC_0000004</td>\n",
       "      <td>80</td>\n",
       "      <td>male</td>\n",
       "    </tr>\n",
       "  </tbody>\n",
       "</table>\n",
       "</div>"
      ],
      "text/plain": [
       "       image_id age_approximate     sex\n",
       "0  ISIC_0000000              55  female\n",
       "1  ISIC_0000001              30  female\n",
       "2  ISIC_0000002              60  female\n",
       "3  ISIC_0000003              30    male\n",
       "4  ISIC_0000004              80    male"
      ]
     },
     "execution_count": 9,
     "metadata": {},
     "output_type": "execute_result"
    }
   ],
   "source": [
    "train17b = pd.read_csv('data/ISIC-2017_Training_Data_metadata.csv')\n",
    "train17b.head()"
   ]
  },
  {
   "cell_type": "code",
   "execution_count": 10,
   "metadata": {},
   "outputs": [],
   "source": [
    "train17b.columns = ['file', 'age', 'gender']\n",
    "train17b = train17b.replace({'age': 'unknown'}, np.nan)\n",
    "train17b = train17b.replace({'gender': 'unknown'}, np.nan)"
   ]
  },
  {
   "cell_type": "code",
   "execution_count": 36,
   "metadata": {},
   "outputs": [
    {
     "data": {
      "text/html": [
       "<div>\n",
       "<style scoped>\n",
       "    .dataframe tbody tr th:only-of-type {\n",
       "        vertical-align: middle;\n",
       "    }\n",
       "\n",
       "    .dataframe tbody tr th {\n",
       "        vertical-align: top;\n",
       "    }\n",
       "\n",
       "    .dataframe thead th {\n",
       "        text-align: right;\n",
       "    }\n",
       "</style>\n",
       "<table border=\"1\" class=\"dataframe\">\n",
       "  <thead>\n",
       "    <tr style=\"text-align: right;\">\n",
       "      <th></th>\n",
       "      <th>file</th>\n",
       "      <th>age</th>\n",
       "      <th>gender</th>\n",
       "      <th>target</th>\n",
       "    </tr>\n",
       "  </thead>\n",
       "  <tbody>\n",
       "    <tr>\n",
       "      <th>0</th>\n",
       "      <td>ISIC_0000000</td>\n",
       "      <td>55.0</td>\n",
       "      <td>female</td>\n",
       "      <td>0</td>\n",
       "    </tr>\n",
       "    <tr>\n",
       "      <th>1</th>\n",
       "      <td>ISIC_0000001</td>\n",
       "      <td>30.0</td>\n",
       "      <td>female</td>\n",
       "      <td>0</td>\n",
       "    </tr>\n",
       "    <tr>\n",
       "      <th>2</th>\n",
       "      <td>ISIC_0000002</td>\n",
       "      <td>60.0</td>\n",
       "      <td>female</td>\n",
       "      <td>1</td>\n",
       "    </tr>\n",
       "    <tr>\n",
       "      <th>3</th>\n",
       "      <td>ISIC_0000003</td>\n",
       "      <td>30.0</td>\n",
       "      <td>male</td>\n",
       "      <td>0</td>\n",
       "    </tr>\n",
       "    <tr>\n",
       "      <th>4</th>\n",
       "      <td>ISIC_0000004</td>\n",
       "      <td>80.0</td>\n",
       "      <td>male</td>\n",
       "      <td>1</td>\n",
       "    </tr>\n",
       "  </tbody>\n",
       "</table>\n",
       "</div>"
      ],
      "text/plain": [
       "           file   age  gender  target\n",
       "0  ISIC_0000000  55.0  female       0\n",
       "1  ISIC_0000001  30.0  female       0\n",
       "2  ISIC_0000002  60.0  female       1\n",
       "3  ISIC_0000003  30.0    male       0\n",
       "4  ISIC_0000004  80.0    male       1"
      ]
     },
     "execution_count": 36,
     "metadata": {},
     "output_type": "execute_result"
    }
   ],
   "source": [
    "train = pd.concat([train17b, train17a], axis=1)\n",
    "train = train.drop(columns=['file1'], axis=1)\n",
    "train.age = train[~train.age.isna()].age.astype(int)\n",
    "train.head()"
   ]
  },
  {
   "cell_type": "code",
   "execution_count": 12,
   "metadata": {},
   "outputs": [
    {
     "data": {
      "text/plain": [
       "0    1626\n",
       "1     374\n",
       "Name: target, dtype: int64"
      ]
     },
     "execution_count": 12,
     "metadata": {},
     "output_type": "execute_result"
    }
   ],
   "source": [
    "train.target.value_counts()"
   ]
  },
  {
   "cell_type": "code",
   "execution_count": 13,
   "metadata": {},
   "outputs": [
    {
     "data": {
      "image/png": "[encoded data removed]",
      "text/plain": [
       "<Figure size 504x360 with 1 Axes>"
      ]
     },
     "metadata": {},
     "output_type": "display_data"
    }
   ],
   "source": [
    "# create visualization for target variable distribution\n",
    "def barplot(df, xlabel, ylabel, title):\n",
    "    plt.figure(figsize = (7,5))\n",
    "    ax = sns.countplot(x = xlabel, data = df)\n",
    "    plt.title(title, fontsize = 16)\n",
    "    plt.xlabel(xlabel, fontsize = 16)\n",
    "    plt.ylabel(ylabel, fontsize = 16)\n",
    "    total = len(df.target)\n",
    "    for p in ax.patches:\n",
    "        percentage = '{:.1f}%'.format(100 * p.get_height()/total)\n",
    "        x = p.get_x() + p.get_width() / 2 - 0.05\n",
    "        y = p.get_y() + p.get_height()\n",
    "        ax.annotate(percentage, (x, y), size = 16)\n",
    "    plt.show()\n",
    "\n",
    "barplot(train, 'target', 'count', 'Distribution of Target Variable in Train Dataset')"
   ]
  },
  {
   "cell_type": "code",
   "execution_count": 14,
   "metadata": {},
   "outputs": [
    {
     "name": "stdout",
     "output_type": "stream",
     "text": [
      "<class 'pandas.core.frame.DataFrame'>\n",
      "RangeIndex: 2000 entries, 0 to 1999\n",
      "Data columns (total 4 columns):\n",
      " #   Column  Non-Null Count  Dtype \n",
      "---  ------  --------------  ----- \n",
      " 0   file    2000 non-null   object\n",
      " 1   age     1744 non-null   object\n",
      " 2   gender  1771 non-null   object\n",
      " 3   target  2000 non-null   int64 \n",
      "dtypes: int64(1), object(3)\n",
      "memory usage: 62.6+ KB\n"
     ]
    }
   ],
   "source": [
    "train.info()"
   ]
  },
  {
   "cell_type": "code",
   "execution_count": 15,
   "metadata": {},
   "outputs": [],
   "source": [
    "# # write new dataframe to csv file\n",
    "# train.to_csv('./data/train.csv')"
   ]
  },
  {
   "cell_type": "markdown",
   "metadata": {},
   "source": [
    "## Validation and Testing Set"
   ]
  },
  {
   "cell_type": "markdown",
   "metadata": {},
   "source": [
    "### Validation Set\n",
    "Validation set is always created as a subset of the training data"
   ]
  },
  {
   "cell_type": "markdown",
   "metadata": {},
   "source": [
    "### Testing Set"
   ]
  },
  {
   "cell_type": "code",
   "execution_count": 16,
   "metadata": {},
   "outputs": [
    {
     "data": {
      "text/html": [
       "<div>\n",
       "<style scoped>\n",
       "    .dataframe tbody tr th:only-of-type {\n",
       "        vertical-align: middle;\n",
       "    }\n",
       "\n",
       "    .dataframe tbody tr th {\n",
       "        vertical-align: top;\n",
       "    }\n",
       "\n",
       "    .dataframe thead th {\n",
       "        text-align: right;\n",
       "    }\n",
       "</style>\n",
       "<table border=\"1\" class=\"dataframe\">\n",
       "  <thead>\n",
       "    <tr style=\"text-align: right;\">\n",
       "      <th></th>\n",
       "      <th>image_id</th>\n",
       "      <th>age_approximate</th>\n",
       "      <th>sex</th>\n",
       "    </tr>\n",
       "  </thead>\n",
       "  <tbody>\n",
       "    <tr>\n",
       "      <th>0</th>\n",
       "      <td>ISIC_0012086</td>\n",
       "      <td>30</td>\n",
       "      <td>male</td>\n",
       "    </tr>\n",
       "    <tr>\n",
       "      <th>1</th>\n",
       "      <td>ISIC_0012092</td>\n",
       "      <td>40</td>\n",
       "      <td>male</td>\n",
       "    </tr>\n",
       "    <tr>\n",
       "      <th>2</th>\n",
       "      <td>ISIC_0012095</td>\n",
       "      <td>25</td>\n",
       "      <td>male</td>\n",
       "    </tr>\n",
       "    <tr>\n",
       "      <th>3</th>\n",
       "      <td>ISIC_0012134</td>\n",
       "      <td>75</td>\n",
       "      <td>female</td>\n",
       "    </tr>\n",
       "    <tr>\n",
       "      <th>4</th>\n",
       "      <td>ISIC_0012136</td>\n",
       "      <td>70</td>\n",
       "      <td>male</td>\n",
       "    </tr>\n",
       "  </tbody>\n",
       "</table>\n",
       "</div>"
      ],
      "text/plain": [
       "       image_id age_approximate     sex\n",
       "0  ISIC_0012086              30    male\n",
       "1  ISIC_0012092              40    male\n",
       "2  ISIC_0012095              25    male\n",
       "3  ISIC_0012134              75  female\n",
       "4  ISIC_0012136              70    male"
      ]
     },
     "execution_count": 16,
     "metadata": {},
     "output_type": "execute_result"
    }
   ],
   "source": [
    "test1 = pd.read_csv('data/ISIC-2017_Test_v2_Data_metadata.csv')\n",
    "test1.head()"
   ]
  },
  {
   "cell_type": "code",
   "execution_count": 34,
   "metadata": {},
   "outputs": [
    {
     "data": {
      "text/html": [
       "<div>\n",
       "<style scoped>\n",
       "    .dataframe tbody tr th:only-of-type {\n",
       "        vertical-align: middle;\n",
       "    }\n",
       "\n",
       "    .dataframe tbody tr th {\n",
       "        vertical-align: top;\n",
       "    }\n",
       "\n",
       "    .dataframe thead th {\n",
       "        text-align: right;\n",
       "    }\n",
       "</style>\n",
       "<table border=\"1\" class=\"dataframe\">\n",
       "  <thead>\n",
       "    <tr style=\"text-align: right;\">\n",
       "      <th></th>\n",
       "      <th>file</th>\n",
       "      <th>age</th>\n",
       "      <th>gender</th>\n",
       "    </tr>\n",
       "  </thead>\n",
       "  <tbody>\n",
       "    <tr>\n",
       "      <th>0</th>\n",
       "      <td>ISIC_0012086</td>\n",
       "      <td>30</td>\n",
       "      <td>male</td>\n",
       "    </tr>\n",
       "    <tr>\n",
       "      <th>1</th>\n",
       "      <td>ISIC_0012092</td>\n",
       "      <td>40</td>\n",
       "      <td>male</td>\n",
       "    </tr>\n",
       "    <tr>\n",
       "      <th>2</th>\n",
       "      <td>ISIC_0012095</td>\n",
       "      <td>25</td>\n",
       "      <td>male</td>\n",
       "    </tr>\n",
       "    <tr>\n",
       "      <th>3</th>\n",
       "      <td>ISIC_0012134</td>\n",
       "      <td>75</td>\n",
       "      <td>female</td>\n",
       "    </tr>\n",
       "    <tr>\n",
       "      <th>4</th>\n",
       "      <td>ISIC_0012136</td>\n",
       "      <td>70</td>\n",
       "      <td>male</td>\n",
       "    </tr>\n",
       "  </tbody>\n",
       "</table>\n",
       "</div>"
      ],
      "text/plain": [
       "           file age  gender\n",
       "0  ISIC_0012086  30    male\n",
       "1  ISIC_0012092  40    male\n",
       "2  ISIC_0012095  25    male\n",
       "3  ISIC_0012134  75  female\n",
       "4  ISIC_0012136  70    male"
      ]
     },
     "execution_count": 34,
     "metadata": {},
     "output_type": "execute_result"
    }
   ],
   "source": [
    "test1.columns = ['file', 'age', 'gender']\n",
    "test1 = test1.replace({'age': 'unknown'}, np.nan)\n",
    "test1 = test1.replace({'gender': 'unknown'}, np.nan)\n",
    "test1.head()"
   ]
  },
  {
   "cell_type": "code",
   "execution_count": 18,
   "metadata": {},
   "outputs": [
    {
     "data": {
      "text/html": [
       "<div>\n",
       "<style scoped>\n",
       "    .dataframe tbody tr th:only-of-type {\n",
       "        vertical-align: middle;\n",
       "    }\n",
       "\n",
       "    .dataframe tbody tr th {\n",
       "        vertical-align: top;\n",
       "    }\n",
       "\n",
       "    .dataframe thead th {\n",
       "        text-align: right;\n",
       "    }\n",
       "</style>\n",
       "<table border=\"1\" class=\"dataframe\">\n",
       "  <thead>\n",
       "    <tr style=\"text-align: right;\">\n",
       "      <th></th>\n",
       "      <th>image_id</th>\n",
       "      <th>melanoma</th>\n",
       "      <th>seborrheic_keratosis</th>\n",
       "    </tr>\n",
       "  </thead>\n",
       "  <tbody>\n",
       "    <tr>\n",
       "      <th>0</th>\n",
       "      <td>ISIC_0012086</td>\n",
       "      <td>0.0</td>\n",
       "      <td>1.0</td>\n",
       "    </tr>\n",
       "    <tr>\n",
       "      <th>1</th>\n",
       "      <td>ISIC_0012092</td>\n",
       "      <td>0.0</td>\n",
       "      <td>0.0</td>\n",
       "    </tr>\n",
       "    <tr>\n",
       "      <th>2</th>\n",
       "      <td>ISIC_0012095</td>\n",
       "      <td>0.0</td>\n",
       "      <td>0.0</td>\n",
       "    </tr>\n",
       "    <tr>\n",
       "      <th>3</th>\n",
       "      <td>ISIC_0012134</td>\n",
       "      <td>0.0</td>\n",
       "      <td>1.0</td>\n",
       "    </tr>\n",
       "    <tr>\n",
       "      <th>4</th>\n",
       "      <td>ISIC_0012136</td>\n",
       "      <td>0.0</td>\n",
       "      <td>1.0</td>\n",
       "    </tr>\n",
       "  </tbody>\n",
       "</table>\n",
       "</div>"
      ],
      "text/plain": [
       "       image_id  melanoma  seborrheic_keratosis\n",
       "0  ISIC_0012086       0.0                   1.0\n",
       "1  ISIC_0012092       0.0                   0.0\n",
       "2  ISIC_0012095       0.0                   0.0\n",
       "3  ISIC_0012134       0.0                   1.0\n",
       "4  ISIC_0012136       0.0                   1.0"
      ]
     },
     "execution_count": 18,
     "metadata": {},
     "output_type": "execute_result"
    }
   ],
   "source": [
    "test2 = pd.read_csv('data/ISIC-2017_Test_v2_Part3_GroundTruth.csv')\n",
    "test2.head()"
   ]
  },
  {
   "cell_type": "code",
   "execution_count": 19,
   "metadata": {},
   "outputs": [],
   "source": [
    "test2 = test2.drop(columns=['seborrheic_keratosis'], axis=1)\n",
    "test2.columns = ['file1', 'target']\n",
    "test2.target = test2.target.astype(int)"
   ]
  },
  {
   "cell_type": "code",
   "execution_count": 35,
   "metadata": {},
   "outputs": [
    {
     "data": {
      "text/plain": [
       "0    483\n",
       "1    117\n",
       "Name: target, dtype: int64"
      ]
     },
     "execution_count": 35,
     "metadata": {},
     "output_type": "execute_result"
    }
   ],
   "source": [
    "test = pd.concat([test1, test2], axis=1)\n",
    "test = test.drop(columns=['file1'], axis=1)\n",
    "test.age = test[~test.age.isna()].age.astype(int)\n",
    "test.target.value_counts()"
   ]
  },
  {
   "cell_type": "code",
   "execution_count": 21,
   "metadata": {},
   "outputs": [
    {
     "data": {
      "image/png": "[encoded data removed]",
      "text/plain": [
       "<Figure size 504x360 with 1 Axes>"
      ]
     },
     "metadata": {},
     "output_type": "display_data"
    }
   ],
   "source": [
    "barplot(test, 'target', 'count', 'Distribution of Target Variable in Test Dataset')"
   ]
  },
  {
   "cell_type": "code",
   "execution_count": 22,
   "metadata": {},
   "outputs": [
    {
     "name": "stdout",
     "output_type": "stream",
     "text": [
      "<class 'pandas.core.frame.DataFrame'>\n",
      "RangeIndex: 600 entries, 0 to 599\n",
      "Data columns (total 4 columns):\n",
      " #   Column  Non-Null Count  Dtype \n",
      "---  ------  --------------  ----- \n",
      " 0   file    600 non-null    object\n",
      " 1   age     553 non-null    object\n",
      " 2   gender  573 non-null    object\n",
      " 3   target  600 non-null    int64 \n",
      "dtypes: int64(1), object(3)\n",
      "memory usage: 18.9+ KB\n"
     ]
    }
   ],
   "source": [
    "test.info()"
   ]
  },
  {
   "cell_type": "code",
   "execution_count": 23,
   "metadata": {},
   "outputs": [],
   "source": [
    "# # save dataframe to file\n",
    "# test.to_csv('./data/test_2017.csv')"
   ]
  },
  {
   "cell_type": "markdown",
   "metadata": {},
   "source": [
    "# Data Understanding:\n",
    "## Gender Distribution"
   ]
  },
  {
   "cell_type": "code",
   "execution_count": 24,
   "metadata": {},
   "outputs": [
    {
     "data": {
      "image/png": "[encoded data removed]",
      "text/plain": [
       "<Figure size 864x288 with 2 Axes>"
      ]
     },
     "metadata": {},
     "output_type": "display_data"
    }
   ],
   "source": [
    "# display difference in gender distribution of melanoma vs. non-melanoma patients\n",
    "def twoplot(data1, data2, xlabel, ylabel, title1, title2):\n",
    "    plt.style.use('ggplot')\n",
    "    f, (ax1, ax2) = plt.subplots(1, 2, figsize=(12, 4))\n",
    "    a = sns.countplot(x=xlabel, data=data1, ax=ax1)\n",
    "    b = sns.countplot(x=xlabel, data=data2, ax=ax2)\n",
    "    ax1.set_title(title1, fontsize=16)\n",
    "    ax2.set_title(title2, fontsize=16)\n",
    "    ax1.set_xlabel(xlabel, size=16)\n",
    "    ax1.set_ylabel(ylabel, size=16)\n",
    "    ax2.set_xlabel(xlabel, size=16)\n",
    "    ax2.set_ylabel(ylabel, size=16)\n",
    "\n",
    "twoplot(\n",
    "    train[train.target == 0],\n",
    "    train[train.target == 1],\n",
    "    'gender',\n",
    "    'count',\n",
    "    \"Gender Distribution of Non-Melanoma Patients\",\n",
    "    \"Gender Distribution of Melanoma Patients\"\n",
    ")\n"
   ]
  },
  {
   "cell_type": "code",
   "execution_count": 25,
   "metadata": {},
   "outputs": [
    {
     "data": {
      "image/png": "[encoded data removed]",
      "text/plain": [
       "<Figure size 864x288 with 2 Axes>"
      ]
     },
     "metadata": {},
     "output_type": "display_data"
    }
   ],
   "source": [
    "# display difference in gender distribution between training and testing datasets\n",
    "twoplot(\n",
    "    train,\n",
    "    test,\n",
    "    'gender',\n",
    "    'count',\n",
    "    \"Gender Distribution of Training Set\",\n",
    "    \"Gender Distribution of Testing Set\"\n",
    ")"
   ]
  },
  {
   "cell_type": "markdown",
   "metadata": {},
   "source": [
    "## Age Distribution"
   ]
  },
  {
   "cell_type": "code",
   "execution_count": 43,
   "metadata": {},
   "outputs": [
    {
     "data": {
      "text/plain": [
       "Text(0, 0.5, 'Count')"
      ]
     },
     "execution_count": 43,
     "metadata": {},
     "output_type": "execute_result"
    },
    {
     "data": {
      "image/png": "[encoded data removed]",
      "text/plain": [
       "<Figure size 864x288 with 2 Axes>"
      ]
     },
     "metadata": {},
     "output_type": "display_data"
    }
   ],
   "source": [
    "# display distribution of age for non-melanoma vs. melanoma patients\n",
    "f, (ax1, ax2) = plt.subplots(1, 2, figsize=(12, 4))\n",
    "sns.histplot(x='age', data=train[~train.age.isna()][train.target == 0], kde=True, color='dodgerblue', ax=ax1)\n",
    "sns.histplot(x='age', data=train[~train.age.isna()][train.target == 1], kde=True, color='tomato', ax=ax2)\n",
    "ax1.set_title(\"Age Distribution of Non-Melanoma Patients\", fontsize=16)\n",
    "ax2.set_title(\"Age Distribution of Melanoma Patients\", fontsize=16)\n",
    "ax1.set_xlabel('Age', size=16)\n",
    "ax1.set_ylabel('Count', size=16)\n",
    "ax2.set_xlabel('Age', size=16)\n",
    "ax2.set_ylabel('Count', size=16)"
   ]
  },
  {
   "cell_type": "code",
   "execution_count": 40,
   "metadata": {},
   "outputs": [
    {
     "data": {
      "text/plain": [
       "Text(0.5, 1.0, 'Age Distribution of Testing Set')"
      ]
     },
     "execution_count": 40,
     "metadata": {},
     "output_type": "execute_result"
    },
    {
     "data": {
      "image/png": "[encoded data removed]",
      "text/plain": [
       "<Figure size 864x288 with 2 Axes>"
      ]
     },
     "metadata": {},
     "output_type": "display_data"
    }
   ],
   "source": [
    "# display distribution of age between training and testing datasets\n",
    "f, (ax1, ax2) = plt.subplots(1, 2, figsize=(12, 4))\n",
    "sns.histplot(x='age', data=train[~train.age.isna()], kde=True, color='dodgerblue', ax=ax1)\n",
    "sns.histplot(x='age', data=test[~test.age.isna()], kde=True, color='tomato', ax=ax2)\n",
    "ax1.set_title(\"Age Distribution of Training Set\", fontsize=16)\n",
    "ax2.set_title(\"Age Distribution of Testing Set\", fontsize=16)"
   ]
  },
  {
   "cell_type": "markdown",
   "metadata": {},
   "source": [
    "# Train-Validation-Test Split\n",
    "## Folder Management\n",
    "Here is the folder structure:\n",
    "* split\n",
    "    * train\n",
    "        * mel\n",
    "        * not_mel\n",
    "    * val\n",
    "        * mel\n",
    "        * not_mel\n",
    "    test\n",
    "        * mel\n",
    "        * not_mel\n",
    "        "
   ]
  },
  {
   "cell_type": "code",
   "execution_count": 44,
   "metadata": {},
   "outputs": [
    {
     "data": {
      "text/html": [
       "<div>\n",
       "<style scoped>\n",
       "    .dataframe tbody tr th:only-of-type {\n",
       "        vertical-align: middle;\n",
       "    }\n",
       "\n",
       "    .dataframe tbody tr th {\n",
       "        vertical-align: top;\n",
       "    }\n",
       "\n",
       "    .dataframe thead th {\n",
       "        text-align: right;\n",
       "    }\n",
       "</style>\n",
       "<table border=\"1\" class=\"dataframe\">\n",
       "  <thead>\n",
       "    <tr style=\"text-align: right;\">\n",
       "      <th></th>\n",
       "      <th>Unnamed: 0</th>\n",
       "      <th>file</th>\n",
       "      <th>age</th>\n",
       "      <th>gender</th>\n",
       "      <th>target</th>\n",
       "    </tr>\n",
       "  </thead>\n",
       "  <tbody>\n",
       "    <tr>\n",
       "      <th>0</th>\n",
       "      <td>955</td>\n",
       "      <td>ISIC_0011135</td>\n",
       "      <td>75.0</td>\n",
       "      <td>female</td>\n",
       "      <td>1</td>\n",
       "    </tr>\n",
       "    <tr>\n",
       "      <th>1</th>\n",
       "      <td>260</td>\n",
       "      <td>ISIC_0000311</td>\n",
       "      <td>60.0</td>\n",
       "      <td>female</td>\n",
       "      <td>1</td>\n",
       "    </tr>\n",
       "    <tr>\n",
       "      <th>2</th>\n",
       "      <td>341</td>\n",
       "      <td>ISIC_0000415</td>\n",
       "      <td>NaN</td>\n",
       "      <td>NaN</td>\n",
       "      <td>1</td>\n",
       "    </tr>\n",
       "    <tr>\n",
       "      <th>3</th>\n",
       "      <td>1975</td>\n",
       "      <td>ISIC_0015045</td>\n",
       "      <td>55.0</td>\n",
       "      <td>male</td>\n",
       "      <td>1</td>\n",
       "    </tr>\n",
       "    <tr>\n",
       "      <th>4</th>\n",
       "      <td>69</td>\n",
       "      <td>ISIC_0000074</td>\n",
       "      <td>25.0</td>\n",
       "      <td>male</td>\n",
       "      <td>1</td>\n",
       "    </tr>\n",
       "  </tbody>\n",
       "</table>\n",
       "</div>"
      ],
      "text/plain": [
       "   Unnamed: 0          file   age  gender  target\n",
       "0         955  ISIC_0011135  75.0  female       1\n",
       "1         260  ISIC_0000311  60.0  female       1\n",
       "2         341  ISIC_0000415   NaN     NaN       1\n",
       "3        1975  ISIC_0015045  55.0    male       1\n",
       "4          69  ISIC_0000074  25.0    male       1"
      ]
     },
     "execution_count": 44,
     "metadata": {},
     "output_type": "execute_result"
    }
   ],
   "source": [
    "# Train-Validation Split\n",
    "df = pd.read_csv('data/train.csv')\n",
    "\n",
    "# separate into melanoma and non-melanoma subsets\n",
    "melanoma = df[df.target == 1]\n",
    "non_melanoma = df[df.target == 0]\n",
    "\n",
    "# separate into X and y for train_test_split\n",
    "y_mel = melanoma.target\n",
    "X_mel = melanoma.drop(columns=['target'], axis=1)\n",
    "y_non_mel = non_melanoma.target\n",
    "X_non_mel = non_melanoma.drop(columns=['target'], axis=1)\n",
    "\n",
    "# train-validation split 80-20\n",
    "X_tr_m, X_val_m, y_tr_m, y_val_m = train_test_split(X_mel, y_mel, random_state=42, test_size=0.2)\n",
    "X_tr_nm, X_val_nm, y_tr_nm, y_val_nm = train_test_split(X_non_mel, y_non_mel, random_state=42, test_size=0.2)\n",
    "\n",
    "# join X and y together\n",
    "mel_train = pd.concat([X_tr_m, y_tr_m], axis=1)\n",
    "non_mel_train = pd.concat([X_tr_nm, y_tr_nm], axis=1)\n",
    "mel_val = pd.concat([X_val_m, y_val_m], axis=1)\n",
    "non_mel_val = pd.concat([X_val_nm, y_val_nm], axis=1)\n",
    "\n",
    "# join melanoma and non-melanoma subsets back together\n",
    "train = pd.concat([mel_train, non_mel_train], axis=0)\n",
    "validation = pd.concat([mel_val, non_mel_val], axis=0)\n",
    "train = train.reset_index(drop=True)\n",
    "validation = validation.reset_index(drop=True)\n",
    "\n",
    "# display first 5 rows of training dataset\n",
    "train.head()"
   ]
  },
  {
   "cell_type": "code",
   "execution_count": 45,
   "metadata": {},
   "outputs": [
    {
     "data": {
      "text/plain": [
       "1599"
      ]
     },
     "execution_count": 45,
     "metadata": {},
     "output_type": "execute_result"
    }
   ],
   "source": [
    "len(train)"
   ]
  },
  {
   "cell_type": "code",
   "execution_count": 46,
   "metadata": {},
   "outputs": [
    {
     "data": {
      "text/plain": [
       "0    1300\n",
       "1     299\n",
       "Name: target, dtype: int64"
      ]
     },
     "execution_count": 46,
     "metadata": {},
     "output_type": "execute_result"
    }
   ],
   "source": [
    "train.target.value_counts()"
   ]
  },
  {
   "cell_type": "code",
   "execution_count": 47,
   "metadata": {},
   "outputs": [
    {
     "data": {
      "text/html": [
       "<div>\n",
       "<style scoped>\n",
       "    .dataframe tbody tr th:only-of-type {\n",
       "        vertical-align: middle;\n",
       "    }\n",
       "\n",
       "    .dataframe tbody tr th {\n",
       "        vertical-align: top;\n",
       "    }\n",
       "\n",
       "    .dataframe thead th {\n",
       "        text-align: right;\n",
       "    }\n",
       "</style>\n",
       "<table border=\"1\" class=\"dataframe\">\n",
       "  <thead>\n",
       "    <tr style=\"text-align: right;\">\n",
       "      <th></th>\n",
       "      <th>Unnamed: 0</th>\n",
       "      <th>file</th>\n",
       "      <th>age</th>\n",
       "      <th>gender</th>\n",
       "      <th>target</th>\n",
       "    </tr>\n",
       "  </thead>\n",
       "  <tbody>\n",
       "    <tr>\n",
       "      <th>0</th>\n",
       "      <td>1766</td>\n",
       "      <td>ISIC_0014360</td>\n",
       "      <td>75.0</td>\n",
       "      <td>male</td>\n",
       "      <td>1</td>\n",
       "    </tr>\n",
       "    <tr>\n",
       "      <th>1</th>\n",
       "      <td>140</td>\n",
       "      <td>ISIC_0000154</td>\n",
       "      <td>NaN</td>\n",
       "      <td>NaN</td>\n",
       "      <td>1</td>\n",
       "    </tr>\n",
       "    <tr>\n",
       "      <th>2</th>\n",
       "      <td>54</td>\n",
       "      <td>ISIC_0000056</td>\n",
       "      <td>55.0</td>\n",
       "      <td>female</td>\n",
       "      <td>1</td>\n",
       "    </tr>\n",
       "    <tr>\n",
       "      <th>3</th>\n",
       "      <td>1759</td>\n",
       "      <td>ISIC_0014331</td>\n",
       "      <td>60.0</td>\n",
       "      <td>female</td>\n",
       "      <td>1</td>\n",
       "    </tr>\n",
       "    <tr>\n",
       "      <th>4</th>\n",
       "      <td>242</td>\n",
       "      <td>ISIC_0000285</td>\n",
       "      <td>60.0</td>\n",
       "      <td>male</td>\n",
       "      <td>1</td>\n",
       "    </tr>\n",
       "  </tbody>\n",
       "</table>\n",
       "</div>"
      ],
      "text/plain": [
       "   Unnamed: 0          file   age  gender  target\n",
       "0        1766  ISIC_0014360  75.0    male       1\n",
       "1         140  ISIC_0000154   NaN     NaN       1\n",
       "2          54  ISIC_0000056  55.0  female       1\n",
       "3        1759  ISIC_0014331  60.0  female       1\n",
       "4         242  ISIC_0000285  60.0    male       1"
      ]
     },
     "execution_count": 47,
     "metadata": {},
     "output_type": "execute_result"
    }
   ],
   "source": [
    "validation.head()"
   ]
  },
  {
   "cell_type": "code",
   "execution_count": 48,
   "metadata": {},
   "outputs": [
    {
     "data": {
      "text/plain": [
       "401"
      ]
     },
     "execution_count": 48,
     "metadata": {},
     "output_type": "execute_result"
    }
   ],
   "source": [
    "len(validation)"
   ]
  },
  {
   "cell_type": "code",
   "execution_count": 49,
   "metadata": {},
   "outputs": [
    {
     "data": {
      "text/plain": [
       "0    326\n",
       "1     75\n",
       "Name: target, dtype: int64"
      ]
     },
     "execution_count": 49,
     "metadata": {},
     "output_type": "execute_result"
    }
   ],
   "source": [
    "validation.target.value_counts()"
   ]
  },
  {
   "cell_type": "code",
   "execution_count": 50,
   "metadata": {},
   "outputs": [
    {
     "data": {
      "text/html": [
       "<div>\n",
       "<style scoped>\n",
       "    .dataframe tbody tr th:only-of-type {\n",
       "        vertical-align: middle;\n",
       "    }\n",
       "\n",
       "    .dataframe tbody tr th {\n",
       "        vertical-align: top;\n",
       "    }\n",
       "\n",
       "    .dataframe thead th {\n",
       "        text-align: right;\n",
       "    }\n",
       "</style>\n",
       "<table border=\"1\" class=\"dataframe\">\n",
       "  <thead>\n",
       "    <tr style=\"text-align: right;\">\n",
       "      <th></th>\n",
       "      <th>file</th>\n",
       "      <th>age</th>\n",
       "      <th>gender</th>\n",
       "      <th>target</th>\n",
       "    </tr>\n",
       "  </thead>\n",
       "  <tbody>\n",
       "    <tr>\n",
       "      <th>0</th>\n",
       "      <td>ISIC_0012086</td>\n",
       "      <td>30.0</td>\n",
       "      <td>male</td>\n",
       "      <td>0</td>\n",
       "    </tr>\n",
       "    <tr>\n",
       "      <th>1</th>\n",
       "      <td>ISIC_0012092</td>\n",
       "      <td>40.0</td>\n",
       "      <td>male</td>\n",
       "      <td>0</td>\n",
       "    </tr>\n",
       "    <tr>\n",
       "      <th>2</th>\n",
       "      <td>ISIC_0012095</td>\n",
       "      <td>25.0</td>\n",
       "      <td>male</td>\n",
       "      <td>0</td>\n",
       "    </tr>\n",
       "    <tr>\n",
       "      <th>3</th>\n",
       "      <td>ISIC_0012134</td>\n",
       "      <td>75.0</td>\n",
       "      <td>female</td>\n",
       "      <td>0</td>\n",
       "    </tr>\n",
       "    <tr>\n",
       "      <th>4</th>\n",
       "      <td>ISIC_0012136</td>\n",
       "      <td>70.0</td>\n",
       "      <td>male</td>\n",
       "      <td>0</td>\n",
       "    </tr>\n",
       "  </tbody>\n",
       "</table>\n",
       "</div>"
      ],
      "text/plain": [
       "           file   age  gender  target\n",
       "0  ISIC_0012086  30.0    male       0\n",
       "1  ISIC_0012092  40.0    male       0\n",
       "2  ISIC_0012095  25.0    male       0\n",
       "3  ISIC_0012134  75.0  female       0\n",
       "4  ISIC_0012136  70.0    male       0"
      ]
     },
     "execution_count": 50,
     "metadata": {},
     "output_type": "execute_result"
    }
   ],
   "source": [
    "test.head()"
   ]
  },
  {
   "cell_type": "code",
   "execution_count": 51,
   "metadata": {},
   "outputs": [
    {
     "data": {
      "text/plain": [
       "0    483\n",
       "1    117\n",
       "Name: target, dtype: int64"
      ]
     },
     "execution_count": 51,
     "metadata": {},
     "output_type": "execute_result"
    }
   ],
   "source": [
    "test.target.value_counts()"
   ]
  },
  {
   "cell_type": "code",
   "execution_count": 52,
   "metadata": {},
   "outputs": [],
   "source": [
    "# train.to_csv(\"./data/tr.csv\")\n",
    "# validation.to_csv(\"./data/val.csv\")\n",
    "# test.to_csv(\"./data/tt.csv\")"
   ]
  },
  {
   "cell_type": "markdown",
   "metadata": {},
   "source": [
    "## Forming Folders for Training-Validation-Testing Datasets"
   ]
  },
  {
   "cell_type": "code",
   "execution_count": 55,
   "metadata": {},
   "outputs": [
    {
     "name": "stdout",
     "output_type": "stream",
     "text": [
      "Directory already exists\n"
     ]
    }
   ],
   "source": [
    "# Make new directories and assign directory variables\n",
    "new_dir = 'split/'\n",
    "try:\n",
    "    os.mkdir(new_dir)\n",
    "except:\n",
    "    print('Directory already exists')\n",
    "else:\n",
    "    print('Directory created successfully')"
   ]
  },
  {
   "cell_type": "markdown",
   "metadata": {},
   "source": [
    "### Creating Training Dataset"
   ]
  },
  {
   "cell_type": "code",
   "execution_count": 56,
   "metadata": {},
   "outputs": [],
   "source": [
    "# Make subfolders for melanoma and non-melanoma images\n",
    "tr_fldr = os.path.join(new_dir, 'train')\n",
    "tr_mel = os.path.join(tr_fldr, 'mel')\n",
    "tr_nm = os.path.join(tr_fldr, 'not_mel')"
   ]
  },
  {
   "cell_type": "code",
   "execution_count": 61,
   "metadata": {},
   "outputs": [
    {
     "name": "stdout",
     "output_type": "stream",
     "text": [
      "Directory already exists\n",
      "Directory already exists\n",
      "Directory created successfully\n"
     ]
    }
   ],
   "source": [
    "for path in [tr_fldr, tr_mel, tr_nm]:\n",
    "    try:\n",
    "        os.mkdir(path)\n",
    "    except:\n",
    "        print('Directory already exists')\n",
    "    else:\n",
    "        print('Directory created successfully')\n"
   ]
  },
  {
   "cell_type": "code",
   "execution_count": 62,
   "metadata": {},
   "outputs": [],
   "source": [
    "# separate melanoma from non-melanoma in dataframe\n",
    "train['jpg'] = train.file.apply(lambda x: str(x) + '.jpg')\n",
    "mel_train = train[train.target == 1]\n",
    "non_mel_train = train[train.target == 0]"
   ]
  },
  {
   "cell_type": "code",
   "execution_count": 63,
   "metadata": {},
   "outputs": [],
   "source": [
    "# turn all image files into a list to insert into for loop\n",
    "images_dir = 'data/ISIC-2017_Training_Data'\n",
    "mel_tr_ids = mel_train.jpg.to_list()\n",
    "nm_tr_ids = non_mel_train.jpg.to_list()"
   ]
  },
  {
   "cell_type": "code",
   "execution_count": 65,
   "metadata": {},
   "outputs": [
    {
     "data": {
      "application/vnd.jupyter.widget-view+json": {
       "model_id": "08014e1f4c68414f963dd34e76d293b7",
       "version_major": 2,
       "version_minor": 0
      },
      "text/plain": [
       "  0%|          | 0/299 [00:00<?, ?it/s]"
      ]
     },
     "metadata": {},
     "output_type": "display_data"
    }
   ],
   "source": [
    "# move all melanoma images into subfolder\n",
    "for img in tqdm (mel_tr_ids):\n",
    "    shutil.copyfile(os.path.join(images_dir, img), os.path.join(tr_mel, img))"
   ]
  },
  {
   "cell_type": "code",
   "execution_count": 66,
   "metadata": {},
   "outputs": [
    {
     "data": {
      "application/vnd.jupyter.widget-view+json": {
       "model_id": "131b0b5725e34f20b9567e47a0edb34e",
       "version_major": 2,
       "version_minor": 0
      },
      "text/plain": [
       "  0%|          | 0/1300 [00:00<?, ?it/s]"
      ]
     },
     "metadata": {},
     "output_type": "display_data"
    }
   ],
   "source": [
    "# move non-melanoma imgaes into subfolder\n",
    "for img in tqdm(nm_tr_ids):\n",
    "    shutil.copyfile(os.path.join(images_dir, img), os.path.join(tr_nm, img))"
   ]
  },
  {
   "cell_type": "markdown",
   "metadata": {},
   "source": [
    "## Creating Validation Dataset"
   ]
  },
  {
   "cell_type": "code",
   "execution_count": 67,
   "metadata": {},
   "outputs": [],
   "source": [
    "# Make subfolders for melanoma and non-melanoma images\n",
    "val_fldr = os.path.join(new_dir, 'val')\n",
    "val_mel = os.path.join(val_fldr, 'mel')\n",
    "val_nm = os.path.join(val_fldr, 'not_mel')"
   ]
  },
  {
   "cell_type": "code",
   "execution_count": 68,
   "metadata": {},
   "outputs": [
    {
     "name": "stdout",
     "output_type": "stream",
     "text": [
      "Directory created successfully\n",
      "Directory created successfully\n",
      "Directory created successfully\n"
     ]
    }
   ],
   "source": [
    "for path in [val_fldr, val_mel, val_nm]:\n",
    "    try:\n",
    "        os.mkdir(path)\n",
    "    except:\n",
    "        print('Directory already exists')\n",
    "    else:\n",
    "        print('Directory created successfully')"
   ]
  },
  {
   "cell_type": "code",
   "execution_count": 69,
   "metadata": {},
   "outputs": [],
   "source": [
    "# separate melanoma from non-melanoma in dataframe\n",
    "validation['jpg'] = validation.file.apply(lambda x: str(x) + '.jpg')\n",
    "mel_val = validation[validation.target == 1]\n",
    "nm_val = validation[validation.target == 0]"
   ]
  },
  {
   "cell_type": "code",
   "execution_count": 70,
   "metadata": {},
   "outputs": [],
   "source": [
    "# turn all image files into a list to insert into for loop\n",
    "images_dir = 'data/ISIC-2017_Training_Data'\n",
    "mel_val_ids = mel_val.jpg.to_list()\n",
    "nm_val_ids = nm_val.jpg.to_list()"
   ]
  },
  {
   "cell_type": "code",
   "execution_count": 72,
   "metadata": {},
   "outputs": [
    {
     "data": {
      "application/vnd.jupyter.widget-view+json": {
       "model_id": "542334acea4345b1977daaf21db1259b",
       "version_major": 2,
       "version_minor": 0
      },
      "text/plain": [
       "  0%|          | 0/75 [00:00<?, ?it/s]"
      ]
     },
     "metadata": {},
     "output_type": "display_data"
    }
   ],
   "source": [
    "# move all melanoma images into subfolder\n",
    "for img in tqdm(mel_val_ids):\n",
    "    shutil.copyfile(os.path.join(images_dir, img), os.path.join(val_mel, img))"
   ]
  },
  {
   "cell_type": "code",
   "execution_count": 73,
   "metadata": {},
   "outputs": [
    {
     "data": {
      "application/vnd.jupyter.widget-view+json": {
       "model_id": "93cf627962304ff294acd1dd85b63762",
       "version_major": 2,
       "version_minor": 0
      },
      "text/plain": [
       "  0%|          | 0/326 [00:00<?, ?it/s]"
      ]
     },
     "metadata": {},
     "output_type": "display_data"
    }
   ],
   "source": [
    "# move non-melanoma imgaes into subfolder\n",
    "for img in tqdm(nm_val_ids):\n",
    "    shutil.copyfile(os.path.join(images_dir, img), os.path.join(val_nm, img))"
   ]
  },
  {
   "cell_type": "markdown",
   "metadata": {},
   "source": [
    "## Creating Testing Set"
   ]
  },
  {
   "cell_type": "code",
   "execution_count": 75,
   "metadata": {},
   "outputs": [],
   "source": [
    "# Make subfolders for melanoma and non-melanoma images\n",
    "test_fldr = os.path.join(new_dir, 'test')\n",
    "test_mel = os.path.join(test_fldr, 'mel')\n",
    "test_nm = os.path.join(test_fldr, 'not_mel')"
   ]
  },
  {
   "cell_type": "code",
   "execution_count": 76,
   "metadata": {},
   "outputs": [
    {
     "name": "stdout",
     "output_type": "stream",
     "text": [
      "Directory created successfully\n",
      "Directory created successfully\n",
      "Directory created successfully\n"
     ]
    }
   ],
   "source": [
    "for path in [test_fldr, test_mel, test_nm]:\n",
    "    try:\n",
    "        os.mkdir(path)\n",
    "    except:\n",
    "        print('Directory already exists')\n",
    "    else:\n",
    "        print('Directory created successfully')"
   ]
  },
  {
   "cell_type": "code",
   "execution_count": 77,
   "metadata": {},
   "outputs": [],
   "source": [
    "# separate melanoma from non-melanoma in dataframe\n",
    "test['jpg'] = test.file.apply(lambda x: str(x) + '.jpg')\n",
    "mel_test = test[test.target == 1]\n",
    "non_mel_test = test[test.target == 0]"
   ]
  },
  {
   "cell_type": "code",
   "execution_count": 78,
   "metadata": {},
   "outputs": [],
   "source": [
    "# turn all image files into a list to insert into for loop\n",
    "images_dir = 'data/ISIC-2017_Test_v2_Data'\n",
    "mel_test_ids = mel_test.jpg.to_list()\n",
    "nm_test_ids = non_mel_test.jpg.to_list()"
   ]
  },
  {
   "cell_type": "code",
   "execution_count": 79,
   "metadata": {},
   "outputs": [
    {
     "data": {
      "application/vnd.jupyter.widget-view+json": {
       "model_id": "c96c332d33444c4bb93e5fe391655f90",
       "version_major": 2,
       "version_minor": 0
      },
      "text/plain": [
       "  0%|          | 0/117 [00:00<?, ?it/s]"
      ]
     },
     "metadata": {},
     "output_type": "display_data"
    }
   ],
   "source": [
    "# move all melanoma images into subfolder\n",
    "for img in tqdm (mel_test_ids):\n",
    "    shutil.copyfile(os.path.join(images_dir, img), os.path.join(test_mel, img))"
   ]
  },
  {
   "cell_type": "code",
   "execution_count": 80,
   "metadata": {},
   "outputs": [
    {
     "data": {
      "application/vnd.jupyter.widget-view+json": {
       "model_id": "499b88cf7fcd4350948fdef4a52300fa",
       "version_major": 2,
       "version_minor": 0
      },
      "text/plain": [
       "  0%|          | 0/483 [00:00<?, ?it/s]"
      ]
     },
     "metadata": {},
     "output_type": "display_data"
    }
   ],
   "source": [
    "# move non-melanoma imgaes into subfolder\n",
    "for img in tqdm(nm_test_ids):\n",
    "    shutil.copyfile(os.path.join(images_dir, img), os.path.join(test_nm, img))"
   ]
  },
  {
   "cell_type": "markdown",
   "metadata": {},
   "source": [
    "# Modeling Process\n",
    "## Discussion of Parameters\n",
    "1. For test_generator, shuffle must be set to False, and batch size should be set to 1 in order for the step size equal to the length of test dataset. What I mean is that the batch size should be the length of the dataset, but using the formula of length (n) divided by batch size for training and validation would mean batch size for testing is 1.\n",
    "\n",
    "2. Images must be normalized with datagen = ImageDataGenerator(rescale=1./255). Normalization is scaling data to the range of 0-1, and we do that by using the ratio 1.0/255.0 since pixel values range from 0 to 255.\n",
    "\n",
    "3. Different models will require different input size, i.e. AlexNet has image input size of (224, 224, 3), so be sure to check what is the input size for each model.\n",
    "\n",
    "## Discussion of Callbacks\n",
    "Using the callbacks in Keras allowed me to reproduce the visualizations and the metrics from the training process and save some time not having to rerun the models\n"
   ]
  },
  {
   "cell_type": "markdown",
   "metadata": {},
   "source": [
    "# Evaluation Process:\n",
    "## Discussion of Metrics Used:\n",
    "* **Accuracy** is not useful by itself for extremely imbalanced datasets, since a high Accuracy is easily achieved by just predicting majority class. It is the default metric for classification algorithms.\n",
    "\n",
    "* **Precision** tells us how many of the correctly predicted cases actually turned out to be positive. This was the least telling of all the metrics, as it was skewed towards 1.0 in almost all the iterations. I like to think of this as how many selected items are relevant, where selection is what I labeled as a particular class. Out of TP and FP, how many were TPs?\n",
    "\n",
    "* **Recall** tells us how many of the actual positive cases we were able to predict correctly with our model. Recall is a useful metric in cases where False Negative trumps False Positive. Recall is the relevant items retrieved out of total relevant items. All relevant items are of one class. So it is concerned with the members of just one class, aka FN and TP, and is not concerned with the other class entirely.\n",
    "\n",
    "* **ROC-AUC** plots FPR (x-axis) vs. TPR (y-axis), and can be thought of as the fraction of correct predictions versus the fraction of errors for the negative class. It is a measure of the disciminative power between the positive and negative classes. At an AUC score of 0.50, a classifier basically has no discriminative power between the two classes as is the case when there is a FPR and TPR of 0 (predicting all as negative class) or FPR and TPR of 1 (predicting all as positive class), which produces a diagonal line from the lower left to upper right. For imbalanced datasets, this is most commonly used metric to compare classification models.\n",
    "\n",
    "* **PR-AUC** plots recall (x-axis) vs. precision (y-axis), which are both focused on the positive class and not the negative class. A no-skill classifier would produce a horizontal line close to the x-axis where precision is equal to 0.50. This metric is useful in imbalanced datasets where ROC/AUC scores are giving overly optimistic scores."
   ]
  },
  {
   "cell_type": "markdown",
   "metadata": {},
   "source": [
    "## MobileNet Architecture"
   ]
  },
  {
   "cell_type": "code",
   "execution_count": 81,
   "metadata": {},
   "outputs": [],
   "source": [
    "# load saved model\n",
    "model_6 = load_model('logs/log_mobilenet/model.03-0.41.hdf5')"
   ]
  },
  {
   "cell_type": "code",
   "execution_count": 83,
   "metadata": {},
   "outputs": [
    {
     "data": {
      "image/png": "[encoded data removed]",
      "text/plain": [
       "<Figure size 576x396 with 2 Axes>"
      ]
     },
     "metadata": {},
     "output_type": "display_data"
    }
   ],
   "source": [
    "# display loss and accuracy graphs from training\n",
    "history_mobi = pd.read_csv(\"logs/log_mobilenet/log.csv\")\n",
    "train_val_metrics2(3, history_mobi)"
   ]
  },
  {
   "cell_type": "code",
   "execution_count": 91,
   "metadata": {},
   "outputs": [
    {
     "name": "stdout",
     "output_type": "stream",
     "text": [
      "0 epoch\n",
      "1 accuracy\n",
      "2 auc_24\n",
      "3 auc_25\n",
      "4 loss\n",
      "5 lr\n",
      "6 precision_12\n",
      "7 recall_12\n",
      "8 val_accuracy\n",
      "9 val_auc_24\n",
      "10 val_auc_25\n",
      "11 val_loss\n",
      "12 val_precision_12\n",
      "13 val_recall_12\n"
     ]
    }
   ],
   "source": [
    "for (i, column) in enumerate(history_mobi.columns, start=0):\n",
    "    print(i, column)\n"
   ]
  },
  {
   "cell_type": "code",
   "execution_count": 92,
   "metadata": {},
   "outputs": [
    {
     "data": {
      "image/png": "[encoded data removed]",
      "text/plain": [
       "<Figure size 1008x576 with 6 Axes>"
      ]
     },
     "metadata": {},
     "output_type": "display_data"
    }
   ],
   "source": [
    "# display metrics in graphs plotting said metric vs. epoch\n",
    "sixplot2(\n",
    "    var=history_mobi,\n",
    "    auc=history_mobi.columns[2],\n",
    "    v_auc=history_mobi.columns[9],\n",
    "    pr_auc=history_mobi.columns[3],\n",
    "    v_pr_auc=history_mobi.columns[10],\n",
    "    prec=history_mobi.columns[6],\n",
    "    v_prec=history_mobi.columns[12],\n",
    "    rec=history_mobi.columns[7],\n",
    "    v_rec=history_mobi.columns[13])"
   ]
  },
  {
   "cell_type": "code",
   "execution_count": 86,
   "metadata": {},
   "outputs": [
    {
     "name": "stdout",
     "output_type": "stream",
     "text": [
      "Found 600 images belonging to 2 classes.\n",
      "STEP_SIZE_TEST: 600\n"
     ]
    }
   ],
   "source": [
    "# define test generator for predicting\n",
    "test_fldr = './split/test'\n",
    "test_generator = ImageDataGenerator(rescale=1./255).flow_from_directory(\n",
    "        test_fldr, \n",
    "        target_size = (224, 224),\n",
    "        batch_size = 1,\n",
    "        class_mode = 'binary',\n",
    "        seed = 42,\n",
    "        shuffle = False)\n",
    "STEP_SIZE_TEST = test_generator.n // test_generator.batch_size\n",
    "print(f'STEP_SIZE_TEST: {STEP_SIZE_TEST}')"
   ]
  },
  {
   "cell_type": "code",
   "execution_count": 93,
   "metadata": {},
   "outputs": [
    {
     "name": "stdout",
     "output_type": "stream",
     "text": [
      "600/600 [==============================] - 283s 464ms/step\n"
     ]
    },
    {
     "data": {
      "image/png": "[encoded data removed]",
      "text/plain": [
       "<Figure size 576x396 with 2 Axes>"
      ]
     },
     "metadata": {},
     "output_type": "display_data"
    }
   ],
   "source": [
    "# display visualization of confusion matrix for model\n",
    "test_generator.reset()\n",
    "pred_6 = model_6.predict_generator(test_generator, steps = STEP_SIZE_TEST, verbose = 1)\n",
    "y_true = test_generator.classes\n",
    "y_pred_6 = pred_6 > 0.5\n",
    "make_confusion_matrix(y_true, y_pred_6)"
   ]
  },
  {
   "cell_type": "code",
   "execution_count": 94,
   "metadata": {},
   "outputs": [
    {
     "name": "stdout",
     "output_type": "stream",
     "text": [
      "600/600 [==============================] - 286s 468ms/step - loss: 0.4680 - accuracy: 0.8067 - precision_12: 0.8063 - recall_12: 1.0000 - auc_24: 0.7279 - auc_25: 0.8986\n",
      "Loss: 0.4680429995059967\n",
      "Accuracy: 0.8066666722297668\n",
      "Precision: 0.8063439130783081\n",
      "Recall: 1.0\n",
      "ROC-AUC: 0.7279289960861206\n",
      "PR-AUC: 0.8986046314239502\n"
     ]
    }
   ],
   "source": [
    "# get testing metrics for model\n",
    "test_generator.reset()\n",
    "\n",
    "score_6 = model_6.evaluate_generator(test_generator, verbose = 1)\n",
    "\n",
    "print(\"Loss: \" + str(score_6[0]))\n",
    "print(\"Accuracy: \" + str(score_6[1]))\n",
    "print(\"Precision: \" + str(score_6[2]))\n",
    "print(\"Recall: \" + str(score_6[3]))\n",
    "print(\"ROC-AUC: \" + str(score_6[4]))\n",
    "print(\"PR-AUC: \" + str(score_6[5]))"
   ]
  },
  {
   "cell_type": "code",
   "execution_count": 95,
   "metadata": {},
   "outputs": [],
   "source": [
    "data = {'Accuracy': [score_6[1]],\n",
    "        'Precision': [score_6[2]],\n",
    "        'Recall': [score_6[3]],\n",
    "        'ROC-AUC': [score_6[4]],\n",
    "        'PR-AUC': [score_6[5]]}\n",
    "metrics = pd.DataFrame(\n",
    "    data=data,\n",
    "    index=[\n",
    "        'MobileNet'\n",
    "    ])"
   ]
  },
  {
   "cell_type": "code",
   "execution_count": 96,
   "metadata": {},
   "outputs": [
    {
     "data": {
      "text/html": [
       "<div>\n",
       "<style scoped>\n",
       "    .dataframe tbody tr th:only-of-type {\n",
       "        vertical-align: middle;\n",
       "    }\n",
       "\n",
       "    .dataframe tbody tr th {\n",
       "        vertical-align: top;\n",
       "    }\n",
       "\n",
       "    .dataframe thead th {\n",
       "        text-align: right;\n",
       "    }\n",
       "</style>\n",
       "<table border=\"1\" class=\"dataframe\">\n",
       "  <thead>\n",
       "    <tr style=\"text-align: right;\">\n",
       "      <th></th>\n",
       "      <th>Accuracy</th>\n",
       "      <th>Precision</th>\n",
       "      <th>Recall</th>\n",
       "      <th>ROC-AUC</th>\n",
       "      <th>PR-AUC</th>\n",
       "    </tr>\n",
       "  </thead>\n",
       "  <tbody>\n",
       "    <tr>\n",
       "      <th>MobileNet</th>\n",
       "      <td>0.806667</td>\n",
       "      <td>0.806344</td>\n",
       "      <td>1.0</td>\n",
       "      <td>0.727929</td>\n",
       "      <td>0.898605</td>\n",
       "    </tr>\n",
       "  </tbody>\n",
       "</table>\n",
       "</div>"
      ],
      "text/plain": [
       "           Accuracy  Precision  Recall   ROC-AUC    PR-AUC\n",
       "MobileNet  0.806667   0.806344     1.0  0.727929  0.898605"
      ]
     },
     "execution_count": 96,
     "metadata": {},
     "output_type": "execute_result"
    }
   ],
   "source": [
    "metrics.to_csv(\"data/metrics.csv\")\n",
    "metrics"
   ]
  }
 ],
 "metadata": {
  "interpreter": {
   "hash": "2afb1a226ae99d3db0944d8cc6d3a1f2e0f53bd7b948e5881598cb61b32f648a"
  },
  "kernelspec": {
   "display_name": "Python 3.8.10 64-bit ('venv': venv)",
   "language": "python",
   "name": "python3"
  },
  "language_info": {
   "codemirror_mode": {
    "name": "ipython",
    "version": 3
   },
   "file_extension": ".py",
   "mimetype": "text/x-python",
   "name": "python",
   "nbconvert_exporter": "python",
   "pygments_lexer": "ipython3",
   "version": "3.8.10"
  },
  "orig_nbformat": 4
 },
 "nbformat": 4,
 "nbformat_minor": 2
}
